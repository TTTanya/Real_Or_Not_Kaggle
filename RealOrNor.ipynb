{
  "nbformat": 4,
  "nbformat_minor": 0,
  "metadata": {
    "colab": {
      "name": "RealOrNor.ipynb",
      "provenance": [],
      "authorship_tag": "ABX9TyOy6qFEGWUbrCepdiO5/4tn",
      "include_colab_link": true
    },
    "kernelspec": {
      "name": "python3",
      "display_name": "Python 3"
    },
    "accelerator": "GPU"
  },
  "cells": [
    {
      "cell_type": "markdown",
      "metadata": {
        "id": "view-in-github",
        "colab_type": "text"
      },
      "source": [
        "<a href=\"https://colab.research.google.com/github/TTTanya/Real_Or_Not_Kaggle/blob/main/RealOrNor.ipynb\" target=\"_parent\"><img src=\"https://colab.research.google.com/assets/colab-badge.svg\" alt=\"Open In Colab\"/></a>"
      ]
    },
    {
      "cell_type": "code",
      "metadata": {
        "id": "_1jLUGmmbj6G"
      },
      "source": [
        "%tensorflow_version 2.x\n",
        "from tensorflow.keras.models import Sequential\n",
        "from tensorflow.keras.layers import Dense, Embedding, MaxPooling1D, Conv1D, GlobalMaxPooling1D, Dropout, LSTM, GRU\n",
        "from tensorflow.keras import utils\n",
        "from tensorflow.keras.preprocessing.sequence import pad_sequences\n",
        "from tensorflow.keras.preprocessing.text import Tokenizer\n",
        "from tensorflow.keras.callbacks import ModelCheckpoint\n",
        "from tensorflow.keras import utils\n",
        "import pandas as pd\n",
        "import numpy as np\n",
        "import matplotlib.pyplot as plt\n",
        "from google.colab import files\n",
        "from sklearn.preprocessing import LabelEncoder\n",
        "from keras.utils import np_utils\n",
        "import io\n",
        "%matplotlib inline "
      ],
      "execution_count": 1,
      "outputs": []
    },
    {
      "cell_type": "code",
      "metadata": {
        "id": "lVwQxz-EbsX9"
      },
      "source": [
        "max_words = 10000\n",
        "maxlen = 20"
      ],
      "execution_count": 38,
      "outputs": []
    },
    {
      "cell_type": "code",
      "metadata": {
        "id": "x-kE1V6Rb48X",
        "outputId": "8a8bc2c8-1525-46c7-9441-836f23c5351b",
        "colab": {
          "resources": {
            "http://localhost:8080/nbextensions/google.colab/files.js": {
              "data": "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",
              "ok": true,
              "headers": [
                [
                  "content-type",
                  "application/javascript"
                ]
              ],
              "status": 200,
              "status_text": ""
            }
          },
          "base_uri": "https://localhost:8080/",
          "height": 73
        }
      },
      "source": [
        "train = files.upload()"
      ],
      "execution_count": 3,
      "outputs": [
        {
          "output_type": "display_data",
          "data": {
            "text/html": [
              "\n",
              "     <input type=\"file\" id=\"files-8cab78fa-d633-4801-af1c-f0baa7359d16\" name=\"files[]\" multiple disabled\n",
              "        style=\"border:none\" />\n",
              "     <output id=\"result-8cab78fa-d633-4801-af1c-f0baa7359d16\">\n",
              "      Upload widget is only available when the cell has been executed in the\n",
              "      current browser session. Please rerun this cell to enable.\n",
              "      </output>\n",
              "      <script src=\"/nbextensions/google.colab/files.js\"></script> "
            ],
            "text/plain": [
              "<IPython.core.display.HTML object>"
            ]
          },
          "metadata": {
            "tags": []
          }
        },
        {
          "output_type": "stream",
          "text": [
            "Saving dis_train.csv to dis_train.csv\n"
          ],
          "name": "stdout"
        }
      ]
    },
    {
      "cell_type": "code",
      "metadata": {
        "id": "EO5cKB1rcYiG"
      },
      "source": [
        "df = pd.read_csv(io.BytesIO(train['dis_train.csv']))"
      ],
      "execution_count": 4,
      "outputs": []
    },
    {
      "cell_type": "code",
      "metadata": {
        "id": "3MmmuZLPYGH5",
        "outputId": "fdabed62-ffcb-4c27-8d97-bcc805435d85",
        "colab": {
          "base_uri": "https://localhost:8080/",
          "height": 202
        }
      },
      "source": [
        "df.head()"
      ],
      "execution_count": 7,
      "outputs": [
        {
          "output_type": "execute_result",
          "data": {
            "text/html": [
              "<div>\n",
              "<style scoped>\n",
              "    .dataframe tbody tr th:only-of-type {\n",
              "        vertical-align: middle;\n",
              "    }\n",
              "\n",
              "    .dataframe tbody tr th {\n",
              "        vertical-align: top;\n",
              "    }\n",
              "\n",
              "    .dataframe thead th {\n",
              "        text-align: right;\n",
              "    }\n",
              "</style>\n",
              "<table border=\"1\" class=\"dataframe\">\n",
              "  <thead>\n",
              "    <tr style=\"text-align: right;\">\n",
              "      <th></th>\n",
              "      <th>id</th>\n",
              "      <th>keyword</th>\n",
              "      <th>location</th>\n",
              "      <th>text</th>\n",
              "      <th>target</th>\n",
              "    </tr>\n",
              "  </thead>\n",
              "  <tbody>\n",
              "    <tr>\n",
              "      <th>0</th>\n",
              "      <td>1</td>\n",
              "      <td>NaN</td>\n",
              "      <td>NaN</td>\n",
              "      <td>Our Deeds are the Reason of this #earthquake M...</td>\n",
              "      <td>1</td>\n",
              "    </tr>\n",
              "    <tr>\n",
              "      <th>1</th>\n",
              "      <td>4</td>\n",
              "      <td>NaN</td>\n",
              "      <td>NaN</td>\n",
              "      <td>Forest fire near La Ronge Sask. Canada</td>\n",
              "      <td>1</td>\n",
              "    </tr>\n",
              "    <tr>\n",
              "      <th>2</th>\n",
              "      <td>5</td>\n",
              "      <td>NaN</td>\n",
              "      <td>NaN</td>\n",
              "      <td>All residents asked to 'shelter in place' are ...</td>\n",
              "      <td>1</td>\n",
              "    </tr>\n",
              "    <tr>\n",
              "      <th>3</th>\n",
              "      <td>6</td>\n",
              "      <td>NaN</td>\n",
              "      <td>NaN</td>\n",
              "      <td>13,000 people receive #wildfires evacuation or...</td>\n",
              "      <td>1</td>\n",
              "    </tr>\n",
              "    <tr>\n",
              "      <th>4</th>\n",
              "      <td>7</td>\n",
              "      <td>NaN</td>\n",
              "      <td>NaN</td>\n",
              "      <td>Just got sent this photo from Ruby #Alaska as ...</td>\n",
              "      <td>1</td>\n",
              "    </tr>\n",
              "  </tbody>\n",
              "</table>\n",
              "</div>"
            ],
            "text/plain": [
              "   id keyword  ...                                               text target\n",
              "0   1     NaN  ...  Our Deeds are the Reason of this #earthquake M...      1\n",
              "1   4     NaN  ...             Forest fire near La Ronge Sask. Canada      1\n",
              "2   5     NaN  ...  All residents asked to 'shelter in place' are ...      1\n",
              "3   6     NaN  ...  13,000 people receive #wildfires evacuation or...      1\n",
              "4   7     NaN  ...  Just got sent this photo from Ruby #Alaska as ...      1\n",
              "\n",
              "[5 rows x 5 columns]"
            ]
          },
          "metadata": {
            "tags": []
          },
          "execution_count": 7
        }
      ]
    },
    {
      "cell_type": "code",
      "metadata": {
        "id": "s5L5AWoicmoW"
      },
      "source": [
        "X_train = df['text']\n",
        "y_train = df['target']"
      ],
      "execution_count": 5,
      "outputs": []
    },
    {
      "cell_type": "code",
      "metadata": {
        "id": "PnULEf_ndW2T"
      },
      "source": [
        "token = Tokenizer(num_words=max_words)\n",
        "token.fit_on_texts(X_train)\n",
        "sequences = token.texts_to_sequences(X_train)\n",
        "X_train = pad_sequences(sequences, maxlen = maxlen)"
      ],
      "execution_count": 8,
      "outputs": []
    },
    {
      "cell_type": "code",
      "metadata": {
        "id": "oVNNLKQpdrTb",
        "outputId": "13b8b191-4a1c-438b-ecdc-3e5def2991f2",
        "colab": {
          "base_uri": "https://localhost:8080/"
        }
      },
      "source": [
        "print(X_train[279])\n",
        "print(df['text'][279])"
      ],
      "execution_count": 10,
      "outputs": [
        {
          "output_type": "stream",
          "text": [
            "[ 878 1326  193 1240   13    4  914  137  716  259 1008    7   40    4\n",
            "  479   44 1121  245   25 1649]\n",
            "She's kinda hot played on the radio today. What's next? Disease to all? The apocalypse has started everyone. Be careful.\n"
          ],
          "name": "stdout"
        }
      ]
    },
    {
      "cell_type": "code",
      "metadata": {
        "id": "U5XeHTGKeFrq"
      },
      "source": [
        "model_cnn = Sequential()\n",
        "model_cnn.add(Embedding(max_words, 64, input_length=maxlen))\n",
        "model_cnn.add(Conv1D(500, 7, padding='valid', activation='relu'))\n",
        "model_cnn.add(GlobalMaxPooling1D())\n",
        "model_cnn.add(Dense(128, activation='relu'))\n",
        "model_cnn.add(Dense(1, activation='sigmoid'))\n",
        "model_cnn.compile(optimizer='adam', \n",
        "              loss='binary_crossentropy', \n",
        "              metrics=['accuracy'])#0.795"
      ],
      "execution_count": 11,
      "outputs": []
    },
    {
      "cell_type": "code",
      "metadata": {
        "id": "qHUPb_NF1bMY"
      },
      "source": [
        "model_cnn_save_path = 'best_model_cnn.h5'\n",
        "checkpoint_callback_cnn = ModelCheckpoint(model_cnn_save_path, \n",
        "                                      monitor='val_accuracy',\n",
        "                                      save_best_only=True,\n",
        "                                      verbose=1)"
      ],
      "execution_count": 12,
      "outputs": []
    },
    {
      "cell_type": "code",
      "metadata": {
        "id": "U4EJ954nfO1V"
      },
      "source": [
        "model_ls = Sequential()\n",
        "model_ls.add(Embedding(max_words, 64, input_length=maxlen))\n",
        "model_ls.add(LSTM(16))\n",
        "model_ls.add(Dense(1, activation='sigmoid'))\n",
        "model_ls.compile(optimizer='adam', \n",
        "              loss='binary_crossentropy', \n",
        "              metrics=['accuracy'])#0.796"
      ],
      "execution_count": 13,
      "outputs": []
    },
    {
      "cell_type": "code",
      "metadata": {
        "id": "CKX5d1lj0HRx"
      },
      "source": [
        "model_lstm_save_path = 'best_model_lstm.h5'\n",
        "checkpoint_callback_lstm = ModelCheckpoint(model_lstm_save_path, \n",
        "                                      monitor='val_accuracy',\n",
        "                                      save_best_only=True,\n",
        "                                      verbose=1)"
      ],
      "execution_count": 14,
      "outputs": []
    },
    {
      "cell_type": "code",
      "metadata": {
        "id": "yOyfq0tGgFqT"
      },
      "source": [
        "model_gr = Sequential()\n",
        "model_gr.add(Embedding(max_words, 32, input_length=maxlen))\n",
        "model_gr.add(GRU(16))\n",
        "model_gr.add(Dense(1, activation='sigmoid'))\n",
        "model_gr.compile(optimizer='adam', \n",
        "              loss='binary_crossentropy', \n",
        "              metrics=['accuracy'])"
      ],
      "execution_count": 15,
      "outputs": []
    },
    {
      "cell_type": "code",
      "metadata": {
        "id": "v7d_PhIRZB7h"
      },
      "source": [
        "model_gru_save_path = 'best_model_gru.h5'\n",
        "checkpoint_callback_gru = ModelCheckpoint(model_gru_save_path, \n",
        "                                      monitor='val_accuracy',\n",
        "                                      save_best_only=True,\n",
        "                                      verbose=1)"
      ],
      "execution_count": 21,
      "outputs": []
    },
    {
      "cell_type": "code",
      "metadata": {
        "id": "G1opnWgdehUD",
        "outputId": "63693915-cb81-4e52-e4b2-bf13dbd6f745",
        "colab": {
          "base_uri": "https://localhost:8080/"
        }
      },
      "source": [
        "history1 = model_cnn.fit(X_train, y_train, epochs=20, batch_size=128, validation_split=0.05, callbacks=[checkpoint_callback_cnn])"
      ],
      "execution_count": 19,
      "outputs": [
        {
          "output_type": "stream",
          "text": [
            "Epoch 1/20\n",
            "55/57 [===========================>..] - ETA: 0s - loss: 0.0233 - accuracy: 0.9866\n",
            "Epoch 00001: val_accuracy did not improve from 0.79528\n",
            "57/57 [==============================] - 1s 9ms/step - loss: 0.0237 - accuracy: 0.9866 - val_loss: 1.7198 - val_accuracy: 0.7638\n",
            "Epoch 2/20\n",
            "54/57 [===========================>..] - ETA: 0s - loss: 0.0242 - accuracy: 0.9860\n",
            "Epoch 00002: val_accuracy did not improve from 0.79528\n",
            "57/57 [==============================] - 1s 9ms/step - loss: 0.0238 - accuracy: 0.9862 - val_loss: 1.7169 - val_accuracy: 0.7638\n",
            "Epoch 3/20\n",
            "55/57 [===========================>..] - ETA: 0s - loss: 0.0237 - accuracy: 0.9868\n",
            "Epoch 00003: val_accuracy did not improve from 0.79528\n",
            "57/57 [==============================] - 1s 9ms/step - loss: 0.0235 - accuracy: 0.9870 - val_loss: 1.7208 - val_accuracy: 0.7717\n",
            "Epoch 4/20\n",
            "54/57 [===========================>..] - ETA: 0s - loss: 0.0235 - accuracy: 0.9867\n",
            "Epoch 00004: val_accuracy did not improve from 0.79528\n",
            "57/57 [==============================] - 1s 9ms/step - loss: 0.0234 - accuracy: 0.9867 - val_loss: 1.7802 - val_accuracy: 0.7585\n",
            "Epoch 5/20\n",
            "55/57 [===========================>..] - ETA: 0s - loss: 0.0236 - accuracy: 0.9868\n",
            "Epoch 00005: val_accuracy did not improve from 0.79528\n",
            "57/57 [==============================] - 1s 9ms/step - loss: 0.0234 - accuracy: 0.9867 - val_loss: 1.7917 - val_accuracy: 0.7638\n",
            "Epoch 6/20\n",
            "55/57 [===========================>..] - ETA: 0s - loss: 0.0231 - accuracy: 0.9864\n",
            "Epoch 00006: val_accuracy did not improve from 0.79528\n",
            "57/57 [==============================] - 1s 10ms/step - loss: 0.0232 - accuracy: 0.9862 - val_loss: 1.8070 - val_accuracy: 0.7585\n",
            "Epoch 7/20\n",
            "55/57 [===========================>..] - ETA: 0s - loss: 0.0234 - accuracy: 0.9865\n",
            "Epoch 00007: val_accuracy did not improve from 0.79528\n",
            "57/57 [==============================] - 1s 9ms/step - loss: 0.0234 - accuracy: 0.9866 - val_loss: 1.7833 - val_accuracy: 0.7664\n",
            "Epoch 8/20\n",
            "57/57 [==============================] - ETA: 0s - loss: 0.0235 - accuracy: 0.9863\n",
            "Epoch 00008: val_accuracy did not improve from 0.79528\n",
            "57/57 [==============================] - 1s 9ms/step - loss: 0.0235 - accuracy: 0.9863 - val_loss: 1.8183 - val_accuracy: 0.7690\n",
            "Epoch 9/20\n",
            "55/57 [===========================>..] - ETA: 0s - loss: 0.0237 - accuracy: 0.9868\n",
            "Epoch 00009: val_accuracy did not improve from 0.79528\n",
            "57/57 [==============================] - 1s 9ms/step - loss: 0.0234 - accuracy: 0.9870 - val_loss: 1.8059 - val_accuracy: 0.7585\n",
            "Epoch 10/20\n",
            "55/57 [===========================>..] - ETA: 0s - loss: 0.0234 - accuracy: 0.9871\n",
            "Epoch 00010: val_accuracy did not improve from 0.79528\n",
            "57/57 [==============================] - 1s 9ms/step - loss: 0.0235 - accuracy: 0.9869 - val_loss: 1.7968 - val_accuracy: 0.7638\n",
            "Epoch 11/20\n",
            "55/57 [===========================>..] - ETA: 0s - loss: 0.0233 - accuracy: 0.9864\n",
            "Epoch 00011: val_accuracy did not improve from 0.79528\n",
            "57/57 [==============================] - 1s 9ms/step - loss: 0.0234 - accuracy: 0.9864 - val_loss: 1.8355 - val_accuracy: 0.7612\n",
            "Epoch 12/20\n",
            "55/57 [===========================>..] - ETA: 0s - loss: 0.0231 - accuracy: 0.9866\n",
            "Epoch 00012: val_accuracy did not improve from 0.79528\n",
            "57/57 [==============================] - 1s 9ms/step - loss: 0.0234 - accuracy: 0.9863 - val_loss: 1.8642 - val_accuracy: 0.7585\n",
            "Epoch 13/20\n",
            "54/57 [===========================>..] - ETA: 0s - loss: 0.0232 - accuracy: 0.9868\n",
            "Epoch 00013: val_accuracy did not improve from 0.79528\n",
            "57/57 [==============================] - 1s 9ms/step - loss: 0.0232 - accuracy: 0.9867 - val_loss: 1.8561 - val_accuracy: 0.7585\n",
            "Epoch 14/20\n",
            "55/57 [===========================>..] - ETA: 0s - loss: 0.0236 - accuracy: 0.9876\n",
            "Epoch 00014: val_accuracy did not improve from 0.79528\n",
            "57/57 [==============================] - 1s 9ms/step - loss: 0.0232 - accuracy: 0.9878 - val_loss: 1.8870 - val_accuracy: 0.7612\n",
            "Epoch 15/20\n",
            "55/57 [===========================>..] - ETA: 0s - loss: 0.0234 - accuracy: 0.9862\n",
            "Epoch 00015: val_accuracy did not improve from 0.79528\n",
            "57/57 [==============================] - 1s 9ms/step - loss: 0.0234 - accuracy: 0.9862 - val_loss: 1.9230 - val_accuracy: 0.7559\n",
            "Epoch 16/20\n",
            "55/57 [===========================>..] - ETA: 0s - loss: 0.0237 - accuracy: 0.9862\n",
            "Epoch 00016: val_accuracy did not improve from 0.79528\n",
            "57/57 [==============================] - 1s 9ms/step - loss: 0.0233 - accuracy: 0.9866 - val_loss: 1.9132 - val_accuracy: 0.7559\n",
            "Epoch 17/20\n",
            "55/57 [===========================>..] - ETA: 0s - loss: 0.0233 - accuracy: 0.9865\n",
            "Epoch 00017: val_accuracy did not improve from 0.79528\n",
            "57/57 [==============================] - 1s 9ms/step - loss: 0.0234 - accuracy: 0.9866 - val_loss: 1.8500 - val_accuracy: 0.7638\n",
            "Epoch 18/20\n",
            "53/57 [==========================>...] - ETA: 0s - loss: 0.0231 - accuracy: 0.9857\n",
            "Epoch 00018: val_accuracy did not improve from 0.79528\n",
            "57/57 [==============================] - 1s 9ms/step - loss: 0.0234 - accuracy: 0.9858 - val_loss: 1.8873 - val_accuracy: 0.7664\n",
            "Epoch 19/20\n",
            "54/57 [===========================>..] - ETA: 0s - loss: 0.0233 - accuracy: 0.9871\n",
            "Epoch 00019: val_accuracy did not improve from 0.79528\n",
            "57/57 [==============================] - 1s 9ms/step - loss: 0.0235 - accuracy: 0.9869 - val_loss: 1.9310 - val_accuracy: 0.7664\n",
            "Epoch 20/20\n",
            "55/57 [===========================>..] - ETA: 0s - loss: 0.0233 - accuracy: 0.9871\n",
            "Epoch 00020: val_accuracy did not improve from 0.79528\n",
            "57/57 [==============================] - 1s 9ms/step - loss: 0.0234 - accuracy: 0.9870 - val_loss: 1.9472 - val_accuracy: 0.7612\n"
          ],
          "name": "stdout"
        }
      ]
    },
    {
      "cell_type": "code",
      "metadata": {
        "id": "CWI6-HrdhO1H",
        "outputId": "0f811458-ed76-46e2-e35c-99401a6afc47",
        "colab": {
          "base_uri": "https://localhost:8080/"
        }
      },
      "source": [
        "history2 = model_ls.fit(X_train, y_train, epochs=15, batch_size=128, validation_split=0.05, callbacks=[checkpoint_callback_lstm])"
      ],
      "execution_count": 20,
      "outputs": [
        {
          "output_type": "stream",
          "text": [
            "Epoch 1/15\n",
            "55/57 [===========================>..] - ETA: 0s - loss: 0.6472 - accuracy: 0.6528\n",
            "Epoch 00001: val_accuracy improved from -inf to 0.74541, saving model to best_model_lstm.h5\n",
            "57/57 [==============================] - 1s 14ms/step - loss: 0.6466 - accuracy: 0.6527 - val_loss: 0.5939 - val_accuracy: 0.7454\n",
            "Epoch 2/15\n",
            "55/57 [===========================>..] - ETA: 0s - loss: 0.4661 - accuracy: 0.7980\n",
            "Epoch 00002: val_accuracy improved from 0.74541 to 0.79790, saving model to best_model_lstm.h5\n",
            "57/57 [==============================] - 1s 9ms/step - loss: 0.4627 - accuracy: 0.8001 - val_loss: 0.4338 - val_accuracy: 0.7979\n",
            "Epoch 3/15\n",
            "52/57 [==========================>...] - ETA: 0s - loss: 0.3113 - accuracy: 0.8791\n",
            "Epoch 00003: val_accuracy improved from 0.79790 to 0.81365, saving model to best_model_lstm.h5\n",
            "57/57 [==============================] - 1s 9ms/step - loss: 0.3113 - accuracy: 0.8787 - val_loss: 0.4235 - val_accuracy: 0.8136\n",
            "Epoch 4/15\n",
            "55/57 [===========================>..] - ETA: 0s - loss: 0.2367 - accuracy: 0.9153\n",
            "Epoch 00004: val_accuracy did not improve from 0.81365\n",
            "57/57 [==============================] - 0s 8ms/step - loss: 0.2354 - accuracy: 0.9158 - val_loss: 0.4507 - val_accuracy: 0.8031\n",
            "Epoch 5/15\n",
            "54/57 [===========================>..] - ETA: 0s - loss: 0.1874 - accuracy: 0.9378\n",
            "Epoch 00005: val_accuracy did not improve from 0.81365\n",
            "57/57 [==============================] - 0s 8ms/step - loss: 0.1857 - accuracy: 0.9385 - val_loss: 0.5065 - val_accuracy: 0.7927\n",
            "Epoch 6/15\n",
            "56/57 [============================>.] - ETA: 0s - loss: 0.1526 - accuracy: 0.9485\n",
            "Epoch 00006: val_accuracy did not improve from 0.81365\n",
            "57/57 [==============================] - 0s 8ms/step - loss: 0.1534 - accuracy: 0.9481 - val_loss: 0.5212 - val_accuracy: 0.8005\n",
            "Epoch 7/15\n",
            "54/57 [===========================>..] - ETA: 0s - loss: 0.1233 - accuracy: 0.9615\n",
            "Epoch 00007: val_accuracy did not improve from 0.81365\n",
            "57/57 [==============================] - 0s 9ms/step - loss: 0.1244 - accuracy: 0.9605 - val_loss: 0.5924 - val_accuracy: 0.8058\n",
            "Epoch 8/15\n",
            "55/57 [===========================>..] - ETA: 0s - loss: 0.1077 - accuracy: 0.9638\n",
            "Epoch 00008: val_accuracy did not improve from 0.81365\n",
            "57/57 [==============================] - 0s 9ms/step - loss: 0.1085 - accuracy: 0.9636 - val_loss: 0.6074 - val_accuracy: 0.8084\n",
            "Epoch 9/15\n",
            "54/57 [===========================>..] - ETA: 0s - loss: 0.0937 - accuracy: 0.9693\n",
            "Epoch 00009: val_accuracy did not improve from 0.81365\n",
            "57/57 [==============================] - 0s 8ms/step - loss: 0.0938 - accuracy: 0.9696 - val_loss: 0.6712 - val_accuracy: 0.7979\n",
            "Epoch 10/15\n",
            "55/57 [===========================>..] - ETA: 0s - loss: 0.0801 - accuracy: 0.9700\n",
            "Epoch 00010: val_accuracy did not improve from 0.81365\n",
            "57/57 [==============================] - 0s 8ms/step - loss: 0.0806 - accuracy: 0.9700 - val_loss: 0.6796 - val_accuracy: 0.7979\n",
            "Epoch 11/15\n",
            "55/57 [===========================>..] - ETA: 0s - loss: 0.0696 - accuracy: 0.9744\n",
            "Epoch 00011: val_accuracy did not improve from 0.81365\n",
            "57/57 [==============================] - 0s 8ms/step - loss: 0.0702 - accuracy: 0.9740 - val_loss: 0.7699 - val_accuracy: 0.7979\n",
            "Epoch 12/15\n",
            "54/57 [===========================>..] - ETA: 0s - loss: 0.0597 - accuracy: 0.9792\n",
            "Epoch 00012: val_accuracy did not improve from 0.81365\n",
            "57/57 [==============================] - 0s 9ms/step - loss: 0.0605 - accuracy: 0.9786 - val_loss: 0.8212 - val_accuracy: 0.7795\n",
            "Epoch 13/15\n",
            "55/57 [===========================>..] - ETA: 0s - loss: 0.0556 - accuracy: 0.9783\n",
            "Epoch 00013: val_accuracy did not improve from 0.81365\n",
            "57/57 [==============================] - 0s 9ms/step - loss: 0.0551 - accuracy: 0.9787 - val_loss: 0.8939 - val_accuracy: 0.7953\n",
            "Epoch 14/15\n",
            "53/57 [==========================>...] - ETA: 0s - loss: 0.0503 - accuracy: 0.9800\n",
            "Epoch 00014: val_accuracy did not improve from 0.81365\n",
            "57/57 [==============================] - 0s 9ms/step - loss: 0.0515 - accuracy: 0.9794 - val_loss: 0.9037 - val_accuracy: 0.7953\n",
            "Epoch 15/15\n",
            "56/57 [============================>.] - ETA: 0s - loss: 0.0496 - accuracy: 0.9788\n",
            "Epoch 00015: val_accuracy did not improve from 0.81365\n",
            "57/57 [==============================] - 0s 8ms/step - loss: 0.0496 - accuracy: 0.9788 - val_loss: 0.9415 - val_accuracy: 0.7769\n"
          ],
          "name": "stdout"
        }
      ]
    },
    {
      "cell_type": "code",
      "metadata": {
        "id": "evajtbLXhRSn",
        "outputId": "064aa1e3-0ed3-40e3-dc88-be128692f050",
        "colab": {
          "base_uri": "https://localhost:8080/"
        }
      },
      "source": [
        "history3 = model_gr.fit(X_train, y_train, epochs=10, batch_size=128, validation_split=0.05, callbacks=[checkpoint_callback_gru])"
      ],
      "execution_count": 22,
      "outputs": [
        {
          "output_type": "stream",
          "text": [
            "Epoch 1/10\n",
            "53/57 [==========================>...] - ETA: 0s - loss: 0.6705 - accuracy: 0.5837\n",
            "Epoch 00001: val_accuracy improved from -inf to 0.67454, saving model to best_model_gru.h5\n",
            "57/57 [==============================] - 1s 12ms/step - loss: 0.6673 - accuracy: 0.5890 - val_loss: 0.6439 - val_accuracy: 0.6745\n",
            "Epoch 2/10\n",
            "54/57 [===========================>..] - ETA: 0s - loss: 0.5682 - accuracy: 0.7069\n",
            "Epoch 00002: val_accuracy improved from 0.67454 to 0.79265, saving model to best_model_gru.h5\n",
            "57/57 [==============================] - 0s 8ms/step - loss: 0.5654 - accuracy: 0.7100 - val_loss: 0.5339 - val_accuracy: 0.7927\n",
            "Epoch 3/10\n",
            "54/57 [===========================>..] - ETA: 0s - loss: 0.3668 - accuracy: 0.8504\n",
            "Epoch 00003: val_accuracy did not improve from 0.79265\n",
            "57/57 [==============================] - 0s 7ms/step - loss: 0.3662 - accuracy: 0.8508 - val_loss: 0.4425 - val_accuracy: 0.7927\n",
            "Epoch 4/10\n",
            "55/57 [===========================>..] - ETA: 0s - loss: 0.2588 - accuracy: 0.9007\n",
            "Epoch 00004: val_accuracy improved from 0.79265 to 0.79790, saving model to best_model_gru.h5\n",
            "57/57 [==============================] - 0s 8ms/step - loss: 0.2598 - accuracy: 0.9000 - val_loss: 0.4298 - val_accuracy: 0.7979\n",
            "Epoch 5/10\n",
            "54/57 [===========================>..] - ETA: 0s - loss: 0.1969 - accuracy: 0.9269\n",
            "Epoch 00005: val_accuracy improved from 0.79790 to 0.80315, saving model to best_model_gru.h5\n",
            "57/57 [==============================] - 0s 8ms/step - loss: 0.1959 - accuracy: 0.9275 - val_loss: 0.4808 - val_accuracy: 0.8031\n",
            "Epoch 6/10\n",
            "50/57 [=========================>....] - ETA: 0s - loss: 0.1542 - accuracy: 0.9467\n",
            "Epoch 00006: val_accuracy improved from 0.80315 to 0.81102, saving model to best_model_gru.h5\n",
            "57/57 [==============================] - 0s 8ms/step - loss: 0.1587 - accuracy: 0.9446 - val_loss: 0.5323 - val_accuracy: 0.8110\n",
            "Epoch 7/10\n",
            "51/57 [=========================>....] - ETA: 0s - loss: 0.1282 - accuracy: 0.9580\n",
            "Epoch 00007: val_accuracy did not improve from 0.81102\n",
            "57/57 [==============================] - 0s 7ms/step - loss: 0.1309 - accuracy: 0.9569 - val_loss: 0.5623 - val_accuracy: 0.8058\n",
            "Epoch 8/10\n",
            "53/57 [==========================>...] - ETA: 0s - loss: 0.1080 - accuracy: 0.9655\n",
            "Epoch 00008: val_accuracy did not improve from 0.81102\n",
            "57/57 [==============================] - 0s 6ms/step - loss: 0.1091 - accuracy: 0.9652 - val_loss: 0.6110 - val_accuracy: 0.8058\n",
            "Epoch 9/10\n",
            "51/57 [=========================>....] - ETA: 0s - loss: 0.0916 - accuracy: 0.9694\n",
            "Epoch 00009: val_accuracy did not improve from 0.81102\n",
            "57/57 [==============================] - 0s 7ms/step - loss: 0.0954 - accuracy: 0.9678 - val_loss: 0.6446 - val_accuracy: 0.8084\n",
            "Epoch 10/10\n",
            "54/57 [===========================>..] - ETA: 0s - loss: 0.0897 - accuracy: 0.9696\n",
            "Epoch 00010: val_accuracy did not improve from 0.81102\n",
            "57/57 [==============================] - 0s 6ms/step - loss: 0.0890 - accuracy: 0.9701 - val_loss: 0.6744 - val_accuracy: 0.7979\n"
          ],
          "name": "stdout"
        }
      ]
    },
    {
      "cell_type": "code",
      "metadata": {
        "id": "pNg6CXdKga3d",
        "outputId": "b86a566d-58f1-4fa6-fbde-20b248ce86a5",
        "colab": {
          "resources": {
            "http://localhost:8080/nbextensions/google.colab/files.js": {
              "data": "Ly8gQ29weXJpZ2h0IDIwMTcgR29vZ2xlIExMQwovLwovLyBMaWNlbnNlZCB1bmRlciB0aGUgQXBhY2hlIExpY2Vuc2UsIFZlcnNpb24gMi4wICh0aGUgIkxpY2Vuc2UiKTsKLy8geW91IG1heSBub3QgdXNlIHRoaXMgZmlsZSBleGNlcHQgaW4gY29tcGxpYW5jZSB3aXRoIHRoZSBMaWNlbnNlLgovLyBZb3UgbWF5IG9idGFpbiBhIGNvcHkgb2YgdGhlIExpY2Vuc2UgYXQKLy8KLy8gICAgICBodHRwOi8vd3d3LmFwYWNoZS5vcmcvbGljZW5zZXMvTElDRU5TRS0yLjAKLy8KLy8gVW5sZXNzIHJlcXVpcmVkIGJ5IGFwcGxpY2FibGUgbGF3IG9yIGFncmVlZCB0byBpbiB3cml0aW5nLCBzb2Z0d2FyZQovLyBkaXN0cmlidXRlZCB1bmRlciB0aGUgTGljZW5zZSBpcyBkaXN0cmlidXRlZCBvbiBhbiAiQVMgSVMiIEJBU0lTLAovLyBXSVRIT1VUIFdBUlJBTlRJRVMgT1IgQ09ORElUSU9OUyBPRiBBTlkgS0lORCwgZWl0aGVyIGV4cHJlc3Mgb3IgaW1wbGllZC4KLy8gU2VlIHRoZSBMaWNlbnNlIGZvciB0aGUgc3BlY2lmaWMgbGFuZ3VhZ2UgZ292ZXJuaW5nIHBlcm1pc3Npb25zIGFuZAovLyBsaW1pdGF0aW9ucyB1bmRlciB0aGUgTGljZW5zZS4KCi8qKgogKiBAZmlsZW92ZXJ2aWV3IEhlbHBlcnMgZm9yIGdvb2dsZS5jb2xhYiBQeXRob24gbW9kdWxlLgogKi8KKGZ1bmN0aW9uKHNjb3BlKSB7CmZ1bmN0aW9uIHNwYW4odGV4dCwgc3R5bGVBdHRyaWJ1dGVzID0ge30pIHsKICBjb25zdCBlbGVtZW50ID0gZG9jdW1lbnQuY3JlYXRlRWxlbWVudCgnc3BhbicpOwogIGVsZW1lbnQudGV4dENvbnRlbnQgPSB0ZXh0OwogIGZvciAoY29uc3Qga2V5IG9mIE9iamVjdC5rZXlzKHN0eWxlQXR0cmlidXRlcykpIHsKICAgIGVsZW1lbnQuc3R5bGVba2V5XSA9IHN0eWxlQXR0cmlidXRlc1trZXldOwogIH0KICByZXR1cm4gZWxlbWVudDsKfQoKLy8gTWF4IG51bWJlciBvZiBieXRlcyB3aGljaCB3aWxsIGJlIHVwbG9hZGVkIGF0IGEgdGltZS4KY29uc3QgTUFYX1BBWUxPQURfU0laRSA9IDEwMCAqIDEwMjQ7CgpmdW5jdGlvbiBfdXBsb2FkRmlsZXMoaW5wdXRJZCwgb3V0cHV0SWQpIHsKICBjb25zdCBzdGVwcyA9IHVwbG9hZEZpbGVzU3RlcChpbnB1dElkLCBvdXRwdXRJZCk7CiAgY29uc3Qgb3V0cHV0RWxlbWVudCA9IGRvY3VtZW50LmdldEVsZW1lbnRCeUlkKG91dHB1dElkKTsKICAvLyBDYWNoZSBzdGVwcyBvbiB0aGUgb3V0cHV0RWxlbWVudCB0byBtYWtlIGl0IGF2YWlsYWJsZSBmb3IgdGhlIG5leHQgY2FsbAogIC8vIHRvIHVwbG9hZEZpbGVzQ29udGludWUgZnJvbSBQeXRob24uCiAgb3V0cHV0RWxlbWVudC5zdGVwcyA9IHN0ZXBzOwoKICByZXR1cm4gX3VwbG9hZEZpbGVzQ29udGludWUob3V0cHV0SWQpOwp9CgovLyBUaGlzIGlzIHJvdWdobHkgYW4gYXN5bmMgZ2VuZXJhdG9yIChub3Qgc3VwcG9ydGVkIGluIHRoZSBicm93c2VyIHlldCksCi8vIHdoZXJlIHRoZXJlIGFyZSBtdWx0aXBsZSBhc3luY2hyb25vdXMgc3RlcHMgYW5kIHRoZSBQeXRob24gc2lkZSBpcyBnb2luZwovLyB0byBwb2xsIGZvciBjb21wbGV0aW9uIG9mIGVhY2ggc3RlcC4KLy8gVGhpcyB1c2VzIGEgUHJvbWlzZSB0byBibG9jayB0aGUgcHl0aG9uIHNpZGUgb24gY29tcGxldGlvbiBvZiBlYWNoIHN0ZXAsCi8vIHRoZW4gcGFzc2VzIHRoZSByZXN1bHQgb2YgdGhlIHByZXZpb3VzIHN0ZXAgYXMgdGhlIGlucHV0IHRvIHRoZSBuZXh0IHN0ZXAuCmZ1bmN0aW9uIF91cGxvYWRGaWxlc0NvbnRpbnVlKG91dHB1dElkKSB7CiAgY29uc3Qgb3V0cHV0RWxlbWVudCA9IGRvY3VtZW50LmdldEVsZW1lbnRCeUlkKG91dHB1dElkKTsKICBjb25zdCBzdGVwcyA9IG91dHB1dEVsZW1lbnQuc3RlcHM7CgogIGNvbnN0IG5leHQgPSBzdGVwcy5uZXh0KG91dHB1dEVsZW1lbnQubGFzdFByb21pc2VWYWx1ZSk7CiAgcmV0dXJuIFByb21pc2UucmVzb2x2ZShuZXh0LnZhbHVlLnByb21pc2UpLnRoZW4oKHZhbHVlKSA9PiB7CiAgICAvLyBDYWNoZSB0aGUgbGFzdCBwcm9taXNlIHZhbHVlIHRvIG1ha2UgaXQgYXZhaWxhYmxlIHRvIHRoZSBuZXh0CiAgICAvLyBzdGVwIG9mIHRoZSBnZW5lcmF0b3IuCiAgICBvdXRwdXRFbGVtZW50Lmxhc3RQcm9taXNlVmFsdWUgPSB2YWx1ZTsKICAgIHJldHVybiBuZXh0LnZhbHVlLnJlc3BvbnNlOwogIH0pOwp9CgovKioKICogR2VuZXJhdG9yIGZ1bmN0aW9uIHdoaWNoIGlzIGNhbGxlZCBiZXR3ZWVuIGVhY2ggYXN5bmMgc3RlcCBvZiB0aGUgdXBsb2FkCiAqIHByb2Nlc3MuCiAqIEBwYXJhbSB7c3RyaW5nfSBpbnB1dElkIEVsZW1lbnQgSUQgb2YgdGhlIGlucHV0IGZpbGUgcGlja2VyIGVsZW1lbnQuCiAqIEBwYXJhbSB7c3RyaW5nfSBvdXRwdXRJZCBFbGVtZW50IElEIG9mIHRoZSBvdXRwdXQgZGlzcGxheS4KICogQHJldHVybiB7IUl0ZXJhYmxlPCFPYmplY3Q+fSBJdGVyYWJsZSBvZiBuZXh0IHN0ZXBzLgogKi8KZnVuY3Rpb24qIHVwbG9hZEZpbGVzU3RlcChpbnB1dElkLCBvdXRwdXRJZCkgewogIGNvbnN0IGlucHV0RWxlbWVudCA9IGRvY3VtZW50LmdldEVsZW1lbnRCeUlkKGlucHV0SWQpOwogIGlucHV0RWxlbWVudC5kaXNhYmxlZCA9IGZhbHNlOwoKICBjb25zdCBvdXRwdXRFbGVtZW50ID0gZG9jdW1lbnQuZ2V0RWxlbWVudEJ5SWQob3V0cHV0SWQpOwogIG91dHB1dEVsZW1lbnQuaW5uZXJIVE1MID0gJyc7CgogIGNvbnN0IHBpY2tlZFByb21pc2UgPSBuZXcgUHJvbWlzZSgocmVzb2x2ZSkgPT4gewogICAgaW5wdXRFbGVtZW50LmFkZEV2ZW50TGlzdGVuZXIoJ2NoYW5nZScsIChlKSA9PiB7CiAgICAgIHJlc29sdmUoZS50YXJnZXQuZmlsZXMpOwogICAgfSk7CiAgfSk7CgogIGNvbnN0IGNhbmNlbCA9IGRvY3VtZW50LmNyZWF0ZUVsZW1lbnQoJ2J1dHRvbicpOwogIGlucHV0RWxlbWVudC5wYXJlbnRFbGVtZW50LmFwcGVuZENoaWxkKGNhbmNlbCk7CiAgY2FuY2VsLnRleHRDb250ZW50ID0gJ0NhbmNlbCB1cGxvYWQnOwogIGNvbnN0IGNhbmNlbFByb21pc2UgPSBuZXcgUHJvbWlzZSgocmVzb2x2ZSkgPT4gewogICAgY2FuY2VsLm9uY2xpY2sgPSAoKSA9PiB7CiAgICAgIHJlc29sdmUobnVsbCk7CiAgICB9OwogIH0pOwoKICAvLyBXYWl0IGZvciB0aGUgdXNlciB0byBwaWNrIHRoZSBmaWxlcy4KICBjb25zdCBmaWxlcyA9IHlpZWxkIHsKICAgIHByb21pc2U6IFByb21pc2UucmFjZShbcGlja2VkUHJvbWlzZSwgY2FuY2VsUHJvbWlzZV0pLAogICAgcmVzcG9uc2U6IHsKICAgICAgYWN0aW9uOiAnc3RhcnRpbmcnLAogICAgfQogIH07CgogIGNhbmNlbC5yZW1vdmUoKTsKCiAgLy8gRGlzYWJsZSB0aGUgaW5wdXQgZWxlbWVudCBzaW5jZSBmdXJ0aGVyIHBpY2tzIGFyZSBub3QgYWxsb3dlZC4KICBpbnB1dEVsZW1lbnQuZGlzYWJsZWQgPSB0cnVlOwoKICBpZiAoIWZpbGVzKSB7CiAgICByZXR1cm4gewogICAgICByZXNwb25zZTogewogICAgICAgIGFjdGlvbjogJ2NvbXBsZXRlJywKICAgICAgfQogICAgfTsKICB9CgogIGZvciAoY29uc3QgZmlsZSBvZiBmaWxlcykgewogICAgY29uc3QgbGkgPSBkb2N1bWVudC5jcmVhdGVFbGVtZW50KCdsaScpOwogICAgbGkuYXBwZW5kKHNwYW4oZmlsZS5uYW1lLCB7Zm9udFdlaWdodDogJ2JvbGQnfSkpOwogICAgbGkuYXBwZW5kKHNwYW4oCiAgICAgICAgYCgke2ZpbGUudHlwZSB8fCAnbi9hJ30pIC0gJHtmaWxlLnNpemV9IGJ5dGVzLCBgICsKICAgICAgICBgbGFzdCBtb2RpZmllZDogJHsKICAgICAgICAgICAgZmlsZS5sYXN0TW9kaWZpZWREYXRlID8gZmlsZS5sYXN0TW9kaWZpZWREYXRlLnRvTG9jYWxlRGF0ZVN0cmluZygpIDoKICAgICAgICAgICAgICAgICAgICAgICAgICAgICAgICAgICAgJ24vYSd9IC0gYCkpOwogICAgY29uc3QgcGVyY2VudCA9IHNwYW4oJzAlIGRvbmUnKTsKICAgIGxpLmFwcGVuZENoaWxkKHBlcmNlbnQpOwoKICAgIG91dHB1dEVsZW1lbnQuYXBwZW5kQ2hpbGQobGkpOwoKICAgIGNvbnN0IGZpbGVEYXRhUHJvbWlzZSA9IG5ldyBQcm9taXNlKChyZXNvbHZlKSA9PiB7CiAgICAgIGNvbnN0IHJlYWRlciA9IG5ldyBGaWxlUmVhZGVyKCk7CiAgICAgIHJlYWRlci5vbmxvYWQgPSAoZSkgPT4gewogICAgICAgIHJlc29sdmUoZS50YXJnZXQucmVzdWx0KTsKICAgICAgfTsKICAgICAgcmVhZGVyLnJlYWRBc0FycmF5QnVmZmVyKGZpbGUpOwogICAgfSk7CiAgICAvLyBXYWl0IGZvciB0aGUgZGF0YSB0byBiZSByZWFkeS4KICAgIGxldCBmaWxlRGF0YSA9IHlpZWxkIHsKICAgICAgcHJvbWlzZTogZmlsZURhdGFQcm9taXNlLAogICAgICByZXNwb25zZTogewogICAgICAgIGFjdGlvbjogJ2NvbnRpbnVlJywKICAgICAgfQogICAgfTsKCiAgICAvLyBVc2UgYSBjaHVua2VkIHNlbmRpbmcgdG8gYXZvaWQgbWVzc2FnZSBzaXplIGxpbWl0cy4gU2VlIGIvNjIxMTU2NjAuCiAgICBsZXQgcG9zaXRpb24gPSAwOwogICAgd2hpbGUgKHBvc2l0aW9uIDwgZmlsZURhdGEuYnl0ZUxlbmd0aCkgewogICAgICBjb25zdCBsZW5ndGggPSBNYXRoLm1pbihmaWxlRGF0YS5ieXRlTGVuZ3RoIC0gcG9zaXRpb24sIE1BWF9QQVlMT0FEX1NJWkUpOwogICAgICBjb25zdCBjaHVuayA9IG5ldyBVaW50OEFycmF5KGZpbGVEYXRhLCBwb3NpdGlvbiwgbGVuZ3RoKTsKICAgICAgcG9zaXRpb24gKz0gbGVuZ3RoOwoKICAgICAgY29uc3QgYmFzZTY0ID0gYnRvYShTdHJpbmcuZnJvbUNoYXJDb2RlLmFwcGx5KG51bGwsIGNodW5rKSk7CiAgICAgIHlpZWxkIHsKICAgICAgICByZXNwb25zZTogewogICAgICAgICAgYWN0aW9uOiAnYXBwZW5kJywKICAgICAgICAgIGZpbGU6IGZpbGUubmFtZSwKICAgICAgICAgIGRhdGE6IGJhc2U2NCwKICAgICAgICB9LAogICAgICB9OwogICAgICBwZXJjZW50LnRleHRDb250ZW50ID0KICAgICAgICAgIGAke01hdGgucm91bmQoKHBvc2l0aW9uIC8gZmlsZURhdGEuYnl0ZUxlbmd0aCkgKiAxMDApfSUgZG9uZWA7CiAgICB9CiAgfQoKICAvLyBBbGwgZG9uZS4KICB5aWVsZCB7CiAgICByZXNwb25zZTogewogICAgICBhY3Rpb246ICdjb21wbGV0ZScsCiAgICB9CiAgfTsKfQoKc2NvcGUuZ29vZ2xlID0gc2NvcGUuZ29vZ2xlIHx8IHt9OwpzY29wZS5nb29nbGUuY29sYWIgPSBzY29wZS5nb29nbGUuY29sYWIgfHwge307CnNjb3BlLmdvb2dsZS5jb2xhYi5fZmlsZXMgPSB7CiAgX3VwbG9hZEZpbGVzLAogIF91cGxvYWRGaWxlc0NvbnRpbnVlLAp9Owp9KShzZWxmKTsK",
              "ok": true,
              "headers": [
                [
                  "content-type",
                  "application/javascript"
                ]
              ],
              "status": 200,
              "status_text": ""
            }
          },
          "base_uri": "https://localhost:8080/",
          "height": 73
        }
      },
      "source": [
        "test = files.upload()"
      ],
      "execution_count": 23,
      "outputs": [
        {
          "output_type": "display_data",
          "data": {
            "text/html": [
              "\n",
              "     <input type=\"file\" id=\"files-6c01a60f-9174-4bf9-826b-065dffef1aea\" name=\"files[]\" multiple disabled\n",
              "        style=\"border:none\" />\n",
              "     <output id=\"result-6c01a60f-9174-4bf9-826b-065dffef1aea\">\n",
              "      Upload widget is only available when the cell has been executed in the\n",
              "      current browser session. Please rerun this cell to enable.\n",
              "      </output>\n",
              "      <script src=\"/nbextensions/google.colab/files.js\"></script> "
            ],
            "text/plain": [
              "<IPython.core.display.HTML object>"
            ]
          },
          "metadata": {
            "tags": []
          }
        },
        {
          "output_type": "stream",
          "text": [
            "Saving dis_test.csv to dis_test.csv\n"
          ],
          "name": "stdout"
        }
      ]
    },
    {
      "cell_type": "code",
      "metadata": {
        "id": "F0amGyHOgh0y"
      },
      "source": [
        "df_test = pd.read_csv(io.BytesIO(test['dis_test.csv']))"
      ],
      "execution_count": 24,
      "outputs": []
    },
    {
      "cell_type": "code",
      "metadata": {
        "id": "Fu5v8Qpags1c"
      },
      "source": [
        "test_sequences = token.texts_to_sequences(df_test['text'])\n",
        "X_test = pad_sequences(test_sequences, maxlen = maxlen)"
      ],
      "execution_count": 25,
      "outputs": []
    },
    {
      "cell_type": "code",
      "metadata": {
        "id": "MV2aGE2yhm4P"
      },
      "source": [
        "model_cnn.load_weights(model_cnn_save_path)\n",
        "pred_cnn = model_cnn.predict_classes(X_test)"
      ],
      "execution_count": null,
      "outputs": []
    },
    {
      "cell_type": "code",
      "metadata": {
        "id": "hAZhT9MVahnw",
        "outputId": "4b5300f5-8f2e-41a2-b1cf-6bc236bd7456",
        "colab": {
          "base_uri": "https://localhost:8080/"
        }
      },
      "source": [
        "pred_cnn"
      ],
      "execution_count": 37,
      "outputs": [
        {
          "output_type": "execute_result",
          "data": {
            "text/plain": [
              "array([[0],\n",
              "       [0],\n",
              "       [1],\n",
              "       ...,\n",
              "       [1],\n",
              "       [1],\n",
              "       [1]], dtype=int32)"
            ]
          },
          "metadata": {
            "tags": []
          },
          "execution_count": 37
        }
      ]
    },
    {
      "cell_type": "code",
      "metadata": {
        "id": "ykMc_hNdh0T8"
      },
      "source": [
        "model_ls.load_weights(model_lstm_save_path)\n",
        "pred_ls = model_ls.predict_classes(X_test)"
      ],
      "execution_count": 27,
      "outputs": []
    },
    {
      "cell_type": "code",
      "metadata": {
        "id": "Cf35cE-fh5RU"
      },
      "source": [
        "model_gr.load_weights(model_gru_save_path)\n",
        "pred_gr = model_gr.predict_classes(X_test)"
      ],
      "execution_count": 28,
      "outputs": []
    },
    {
      "cell_type": "code",
      "metadata": {
        "id": "-KcJpp-lsslT"
      },
      "source": [
        "arr = []\n",
        "j=0\n",
        "for i in pred_gr:\n",
        "  print(i[0])\n",
        "  arr.append(i[0])"
      ],
      "execution_count": null,
      "outputs": []
    },
    {
      "cell_type": "code",
      "metadata": {
        "id": "gooSZTwFi3Fu"
      },
      "source": [
        "model_cnn_df = pd.DataFrame({'id': df_test['id'], 'target': [i[0] for i in pred_cnn]})\n",
        "model_cnn_df.to_csv('disaster_cnn.csv', index = False)"
      ],
      "execution_count": 33,
      "outputs": []
    },
    {
      "cell_type": "code",
      "metadata": {
        "id": "GJPALw5qwymC"
      },
      "source": [
        "model_lstm_df = pd.DataFrame({'id': df_test['id'], 'target': [i[0] for i in pred_ls]})\n",
        "model_lstm_df.to_csv('disaster_lstm.csv', index = False)"
      ],
      "execution_count": 35,
      "outputs": []
    },
    {
      "cell_type": "code",
      "metadata": {
        "id": "m9FYr8SzaB8Y"
      },
      "source": [
        "model_gru_df = pd.DataFrame({'id': df_test['id'], 'target': [i[0] for i in pred_gr]})\n",
        "model_gru_df.to_csv('disaster_gru.csv', index = False)"
      ],
      "execution_count": 36,
      "outputs": []
    },
    {
      "cell_type": "code",
      "metadata": {
        "id": "r4WbzzlyjiJY"
      },
      "source": [
        "files.download('disaster_cnn.csv')"
      ],
      "execution_count": null,
      "outputs": []
    },
    {
      "cell_type": "code",
      "metadata": {
        "id": "TD28YcgjaaOb"
      },
      "source": [
        "files.download('disaster_lstm.csv')"
      ],
      "execution_count": null,
      "outputs": []
    },
    {
      "cell_type": "code",
      "metadata": {
        "id": "DGvch3uGad7C"
      },
      "source": [
        "files.download('disaster_gru.csv')"
      ],
      "execution_count": null,
      "outputs": []
    }
  ]
}